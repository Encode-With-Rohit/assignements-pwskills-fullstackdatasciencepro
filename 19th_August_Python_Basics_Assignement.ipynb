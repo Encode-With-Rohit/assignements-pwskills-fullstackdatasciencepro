{
 "cells": [
  {
   "cell_type": "code",
   "execution_count": 1,
   "id": "bf612084-9ed3-4223-b22e-ea7bded85bd7",
   "metadata": {},
   "outputs": [
    {
     "name": "stdout",
     "output_type": "stream",
     "text": [
      "The value of x : 20\n",
      "The value of y : 10\n"
     ]
    }
   ],
   "source": [
    "#Declaring two variables, 'x' and 'y' and assigning them integer value\n",
    "\n",
    "x = 10\n",
    "y = 20\n",
    "\n",
    "#Swapping the values of these variable without using any temporary variable\n",
    "\n",
    "x, y = y, x\n",
    "\n",
    "print(\"The value of x :\",x)\n",
    "print(\"The value of y :\",y)"
   ]
  },
  {
   "cell_type": "code",
   "execution_count": 2,
   "id": "5a64763d-2f40-4818-b078-8da660cac512",
   "metadata": {},
   "outputs": [
    {
     "name": "stdin",
     "output_type": "stream",
     "text": [
      "Enter the length of the rectangle :  10\n",
      "Enter the width of the rectangle :  15\n"
     ]
    },
    {
     "name": "stdout",
     "output_type": "stream",
     "text": [
      "Area of the rectangle : 150.0\n"
     ]
    }
   ],
   "source": [
    "# Taking length and width of a rectangle as inputs from the user and storing them in variables\n",
    "\n",
    "l = float(input(\"Enter the length of the rectangle : \"))\n",
    "w = float(input(\"Enter the width of the rectangle : \"))\n",
    "\n",
    "# Formula to calculate the area of a rectangle\n",
    "\n",
    "Area = l * w\n",
    "\n",
    "#Diplaying the area of rectangle\n",
    "\n",
    "print (\"Area of the rectangle :\",Area)"
   ]
  },
  {
   "cell_type": "code",
   "execution_count": 3,
   "id": "9116be47-8f7f-4364-bb05-2dfbba6efbe6",
   "metadata": {},
   "outputs": [
    {
     "name": "stdin",
     "output_type": "stream",
     "text": [
      "Enter the temperature in degree celcius : -40\n"
     ]
    },
    {
     "name": "stdout",
     "output_type": "stream",
     "text": [
      "The temperature in fahrenheit is : -40.0\n"
     ]
    }
   ],
   "source": [
    "#Taking the temperature in Celcius as input and storing it in a variable\n",
    "\n",
    "Celsius = float(input(\"Enter the temperature in degree celcius :\"))\n",
    "\n",
    "#Formula to convert temperature from celsius to fahrenheit\n",
    "\n",
    "Fahrenheit = (1.8*Celsius) + 32\n",
    "\n",
    "#Displaying the result in fahrenheit\n",
    "\n",
    "print (\"The temperature in fahrenheit is :\",Fahrenheit)"
   ]
  },
  {
   "cell_type": "code",
   "execution_count": 4,
   "id": "64f6d6fa-7a17-44b2-aaeb-8a9d4e975908",
   "metadata": {},
   "outputs": [
    {
     "name": "stdin",
     "output_type": "stream",
     "text": [
      "Enter any entity/element : qwerty\n"
     ]
    },
    {
     "name": "stdout",
     "output_type": "stream",
     "text": [
      "Length of string : 6\n"
     ]
    }
   ],
   "source": [
    "#Taking a string as input\n",
    "\n",
    "s = str(input(\"Enter any entity/element :\"))\n",
    "\n",
    "#Calculating and printing the length of the string\n",
    "\n",
    "length_of_string = len(s)\n",
    "print(\"Length of string :\", length_of_string)"
   ]
  },
  {
   "cell_type": "code",
   "execution_count": 5,
   "id": "d9836fbe-9e01-49fa-8a43-fc443f69fa67",
   "metadata": {},
   "outputs": [
    {
     "name": "stdin",
     "output_type": "stream",
     "text": [
      "Enter a sentence :  qwerty\n"
     ]
    },
    {
     "name": "stdout",
     "output_type": "stream",
     "text": [
      "Number of vowels in sentence : 1\n"
     ]
    }
   ],
   "source": [
    "#Taking sentance as an input from the user\n",
    "\n",
    "sentence = input(\"Enter a sentence : \")\n",
    "\n",
    "#Changing all the letters in lower case\n",
    "\n",
    "sentence_lower = sentence.lower()\n",
    "\n",
    "#Defining variables to help count the number of vowels\n",
    "\n",
    "vowels = ['a','e','i','o','u']\n",
    "vowel_count_in_sentence = 0\n",
    "\n",
    "#Iterating though the sentence and increamenting the vowel count one by one\n",
    "\n",
    "for char in sentence_lower :\n",
    "    if char in vowels :\n",
    "        vowel_count_in_sentence += 1\n",
    "\n",
    "#Displaying the count of vowels present in the sentence        \n",
    "\n",
    "print (\"Number of vowels in sentence :\", vowel_count_in_sentence)"
   ]
  },
  {
   "cell_type": "code",
   "execution_count": 6,
   "id": "7797f332-dd4e-4dec-b714-7dfd84f74ebb",
   "metadata": {},
   "outputs": [
    {
     "name": "stdin",
     "output_type": "stream",
     "text": [
      "Please enter a string : string\n"
     ]
    },
    {
     "name": "stdout",
     "output_type": "stream",
     "text": [
      "Reversed string : gnirts\n"
     ]
    }
   ],
   "source": [
    "#Taking a string 's' as input from user\n",
    "\n",
    "s = input(\"Please enter a string :\")\n",
    "\n",
    "#Reversing the string 's' and named it as 'rs'\n",
    "\n",
    "rs = s[::-1]\n",
    "\n",
    "#Printing the revered string\n",
    "\n",
    "print (\"Reversed string :\", rs)"
   ]
  },
  {
   "cell_type": "code",
   "execution_count": 7,
   "id": "726ad2e3-9ca6-4ad7-bc34-7bbfb9544f0b",
   "metadata": {},
   "outputs": [
    {
     "name": "stdin",
     "output_type": "stream",
     "text": [
      "Please enter a string : WAWAW\n"
     ]
    },
    {
     "name": "stdout",
     "output_type": "stream",
     "text": [
      "Yes, the string is palindrome\n"
     ]
    }
   ],
   "source": [
    "#Taking a string 's' as input from user\n",
    "\n",
    "s = input(\"Please enter a string :\")\n",
    "\n",
    "#Converting all the letters of string 's' in lowercase\n",
    "\n",
    "ls = s.lower()\n",
    "\n",
    "#Reversing the string 'ls' and named it as 'rs'\n",
    "\n",
    "rs = ls[::-1]\n",
    "\n",
    "if ls == rs :\n",
    "    print (\"Yes, the string is palindrome\")\n",
    "else :\n",
    "    print (\"No, the string is not a palindrome\")"
   ]
  },
  {
   "cell_type": "code",
   "execution_count": 10,
   "id": "05aaaaa8-491f-4b8a-97b4-06da54607e7c",
   "metadata": {},
   "outputs": [
    {
     "name": "stdin",
     "output_type": "stream",
     "text": [
      "Please enter a string : a  ppl e\n"
     ]
    },
    {
     "name": "stdout",
     "output_type": "stream",
     "text": [
      "String with removed spaced : apple\n"
     ]
    }
   ],
   "source": [
    "#Taking a string as input from the user\n",
    "\n",
    "s = input(\"Please enter a string :\")\n",
    "\n",
    "#Creating a extra empty string 'swrs' to iterate and add characters from input string 's'\n",
    "\n",
    "swrs = \"\"\n",
    "\n",
    "#Iterating through input string\n",
    "\n",
    "for char in s :\n",
    "    if char != \" \" :\n",
    "        swrs += char\n",
    "        \n",
    "#Printing string with removed string 'swsr'\n",
    "        \n",
    "print (\"String with removed spaced :\", swrs)"
   ]
  },
  {
   "cell_type": "code",
   "execution_count": null,
   "id": "aae742df-7790-4e95-b40a-a54b706996de",
   "metadata": {},
   "outputs": [],
   "source": []
  }
 ],
 "metadata": {
  "kernelspec": {
   "display_name": "Python 3 (ipykernel)",
   "language": "python",
   "name": "python3"
  },
  "language_info": {
   "codemirror_mode": {
    "name": "ipython",
    "version": 3
   },
   "file_extension": ".py",
   "mimetype": "text/x-python",
   "name": "python",
   "nbconvert_exporter": "python",
   "pygments_lexer": "ipython3",
   "version": "3.10.8"
  }
 },
 "nbformat": 4,
 "nbformat_minor": 5
}
